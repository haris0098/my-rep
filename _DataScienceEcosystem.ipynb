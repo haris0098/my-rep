{
 "cells": [
  {
   "cell_type": "markdown",
   "id": "21d38acc-27c3-474b-9202-32f05644e2fb",
   "metadata": {
    "tags": []
   },
   "source": [
    "# Data Science Tools and Ecosystem"
   ]
  },
  {
   "cell_type": "markdown",
   "id": "f41b3cfe-57e9-4c7c-be42-8856d53deddb",
   "metadata": {},
   "source": [
    "In this notebook, Data Science Tools and Ecosystem are summarized"
   ]
  },
  {
   "cell_type": "markdown",
   "id": "72e2d417-d63a-4ab8-a602-f15aca83eacd",
   "metadata": {
    "tags": []
   },
   "source": [
    "**Objectives:**"
   ]
  },
  {
   "cell_type": "markdown",
   "id": "1d6bf07e-9e2a-4180-b4cb-13de475d112d",
   "metadata": {},
   "source": [
    "- popular languages that Data Scientists\n",
    "- commonly used libraries used by Data Scientists\n",
    "- evaluating arithmetic expressions in Python"
   ]
  },
  {
   "cell_type": "markdown",
   "id": "1098f26f-2262-4ba5-b1a4-cff7b9a32a57",
   "metadata": {},
   "source": [
    "Some of the popular languages that Data Scientists use are:"
   ]
  },
  {
   "cell_type": "markdown",
   "id": "f82ebb66-496c-411f-857e-dc290bb1b29d",
   "metadata": {
    "tags": []
   },
   "source": [
    "1. Python\n",
    "1. R \n",
    "1. Julia"
   ]
  },
  {
   "cell_type": "markdown",
   "id": "4612c4c1-198b-48ab-90d0-c0a3b40dddf3",
   "metadata": {},
   "source": [
    "Some of the commonly used libraries used by Data Scientists include:"
   ]
  },
  {
   "cell_type": "markdown",
   "id": "98f17e12-6cdf-402a-9d89-e1c557831e0c",
   "metadata": {},
   "source": [
    "1. NumPy\n",
    "1. Keras\n",
    "1. Pandas\n",
    "1. PyTorch"
   ]
  },
  {
   "cell_type": "markdown",
   "id": "786f33b6-67bf-4f38-bb30-1425c77eeca3",
   "metadata": {
    "tags": []
   },
   "source": [
    "| Data Science Tools |\n",
    "| -------------------|\n",
    "|      Rstudio       |\n",
    "|      Apache Spark  |\n",
    "|      Tensor Flow   |"
   ]
  },
  {
   "cell_type": "markdown",
   "id": "7cac4b1c-bf47-4ba3-8aca-771334855831",
   "metadata": {},
   "source": [
    "### Below are a few examples of evaluating arithmetic expressions in Python"
   ]
  },
  {
   "cell_type": "markdown",
   "id": "2ca1f9a8-2ddf-4b89-bab4-1f78a992e87b",
   "metadata": {},
   "source": [
    "1. addition = x + y\n",
    "1. subtraction = x - y\n",
    "1. product = x * y"
   ]
  },
  {
   "cell_type": "markdown",
   "id": "a08a350d-60d4-4c72-a21f-289e6bfa6547",
   "metadata": {},
   "source": [
    "This a simple arithmetic expression to mutiply then add integers\n"
   ]
  },
  {
   "cell_type": "code",
   "execution_count": 4,
   "id": "fa0fbd09-57fc-4c9d-905b-251f47c3eceb",
   "metadata": {
    "tags": []
   },
   "outputs": [
    {
     "data": {
      "text/plain": [
       "17"
      ]
     },
     "execution_count": 4,
     "metadata": {},
     "output_type": "execute_result"
    }
   ],
   "source": [
    "(3*4)+5"
   ]
  },
  {
   "cell_type": "markdown",
   "id": "c9f4f817-76ef-45aa-a4f2-b21c9c06d222",
   "metadata": {},
   "source": [
    " This will convert 200 minutes to hours by diving by 60"
   ]
  },
  {
   "cell_type": "code",
   "execution_count": 5,
   "id": "8a297e14-6b20-439a-a809-b2c47e788e63",
   "metadata": {
    "tags": []
   },
   "outputs": [
    {
     "data": {
      "text/plain": [
       "3.3333333333333335"
      ]
     },
     "execution_count": 5,
     "metadata": {},
     "output_type": "execute_result"
    }
   ],
   "source": [
    "200/60"
   ]
  },
  {
   "cell_type": "markdown",
   "id": "b284857e-373b-4f37-b2b0-be79cb5408e6",
   "metadata": {},
   "source": [
    "## Author"
   ]
  },
  {
   "cell_type": "markdown",
   "id": "64eae921-d358-45c7-9942-0346fedf17b9",
   "metadata": {},
   "source": [
    "Haris"
   ]
  }
 ],
 "metadata": {
  "kernelspec": {
   "display_name": "Python",
   "language": "python",
   "name": "conda-env-python-py"
  },
  "language_info": {
   "codemirror_mode": {
    "name": "ipython",
    "version": 3
   },
   "file_extension": ".py",
   "mimetype": "text/x-python",
   "name": "python",
   "nbconvert_exporter": "python",
   "pygments_lexer": "ipython3",
   "version": "3.7.12"
  }
 },
 "nbformat": 4,
 "nbformat_minor": 5
}
